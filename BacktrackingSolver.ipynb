{
 "cells": [
  {
   "cell_type": "code",
   "execution_count": 1,
   "metadata": {},
   "outputs": [],
   "source": [
    "def solve(board):\n",
    "    find = find_empty(board)\n",
    "    if not find:\n",
    "        return True\n",
    "    else:\n",
    "        row, col = find\n",
    "        \n",
    "    for i in range(1,10):\n",
    "        if valid(board, i, (row, col)):\n",
    "            board[row][col] = i\n",
    "            if solve(board):\n",
    "                return True\n",
    "            board[row][col] = 0\n",
    "\n",
    "    return False"
   ]
  },
  {
   "cell_type": "code",
   "execution_count": 3,
   "metadata": {},
   "outputs": [],
   "source": [
    "def valid(board, num, pos):\n",
    "    #Row mismatch check\n",
    "    for i in range(len(board[0])):\n",
    "        if board[pos[0]][i] == num and pos[1] != i:\n",
    "            return False\n",
    "\n",
    "    #Column mismatch check\n",
    "    for i in range(len(bardo)):\n",
    "        if board[i][pos[1]] == num and pos[0] != i:\n",
    "            return False\n",
    "        \n",
    "    box_x = pos[1] // 3\n",
    "    box_y = pos[0] // 3\n",
    "    #Box mismatch check\n",
    "    for i in range(box_y*3, box_y*3 + 3):\n",
    "        for j in range(box_x * 3, box_x*3 + 3):\n",
    "            if board[i][j] == num and (i,j) != pos:\n",
    "                return False\n",
    "\n",
    "    return True"
   ]
  },
  {
   "cell_type": "code",
   "execution_count": 4,
   "metadata": {},
   "outputs": [],
   "source": [
    "def print_board(board):\n",
    "    for i in range(len(board)):\n",
    "        if i % 3 == 0 and i != 0:\n",
    "            print(\"- - - - - - - - - - - - - \")\n",
    "\n",
    "        for j in range(len(board[0])):\n",
    "            if j % 3 == 0 and j != 0:\n",
    "                print(\" | \", end=\"\")\n",
    "\n",
    "            if j == 8:\n",
    "                print(board[i][j])\n",
    "            else:\n",
    "                print(str(board[i][j]) + \" \", end=\"\")"
   ]
  },
  {
   "cell_type": "code",
   "execution_count": 5,
   "metadata": {},
   "outputs": [],
   "source": [
    "def find_empty(board):\n",
    "    for i in range(len(board)):\n",
    "        for j in range(len(board[0])):\n",
    "            if board[i][j] == 0:\n",
    "                return (i, j) \n",
    "\n",
    "    return None"
   ]
  },
  {
   "cell_type": "code",
   "execution_count": null,
   "metadata": {},
   "outputs": [],
   "source": []
  }
 ],
 "metadata": {
  "kernelspec": {
   "display_name": "Python 3",
   "language": "python",
   "name": "python3"
  },
  "language_info": {
   "codemirror_mode": {
    "name": "ipython",
    "version": 3
   },
   "file_extension": ".py",
   "mimetype": "text/x-python",
   "name": "python",
   "nbconvert_exporter": "python",
   "pygments_lexer": "ipython3",
   "version": "3.8.3"
  }
 },
 "nbformat": 4,
 "nbformat_minor": 4
}
